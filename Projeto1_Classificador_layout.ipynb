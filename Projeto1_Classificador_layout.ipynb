{
 "cells": [
  {
   "cell_type": "markdown",
   "metadata": {},
   "source": [
    "# Projeto 1 - Ciência dos Dados"
   ]
  },
  {
   "cell_type": "markdown",
   "metadata": {},
   "source": [
    "Nome: Enzo Cardoso de Almeida Santos Neto\n",
    "\n",
    "Nome: Luis Costa"
   ]
  },
  {
   "cell_type": "markdown",
   "metadata": {},
   "source": [
    "**Atenção:** Serão permitidos grupos de três pessoas, mas com uma rubrica mais exigente. Grupos deste tamanho precisarão fazer um questionário de avaliação de trabalho em equipe"
   ]
  },
  {
   "cell_type": "markdown",
   "metadata": {},
   "source": [
    "___\n",
    "Carregando algumas bibliotecas:"
   ]
  },
  {
   "cell_type": "code",
   "execution_count": 1,
   "metadata": {},
   "outputs": [],
   "source": [
    "import math\n",
    "import os.path\n",
    "import pandas as pd\n",
    "import json\n",
    "from random import shuffle\n",
    "import re \n",
    "import matplotlib.pyplot as plt\n",
    "import emoji\n",
    "from emoji  import UNICODE_EMOJI"
   ]
  },
  {
   "cell_type": "markdown",
   "metadata": {},
   "source": [
    "### Caso de erro ao rodar o Import Emoji, por favor digitar no Anaconda Prompt o seguinte comando:"
   ]
  },
  {
   "cell_type": "markdown",
   "metadata": {},
   "source": [
    " pip install emoji"
   ]
  },
  {
   "cell_type": "markdown",
   "metadata": {},
   "source": [
    "___\n",
    "## Classificador automático de sentimento\n"
   ]
  },
  {
   "cell_type": "markdown",
   "metadata": {},
   "source": [
    "Faça aqui uma descrição do seu produto e o que considerou como relevante ou não relevante na classificação dos tweets.\n",
    "\n",
    "O nosso produto analisado foi um Iphone XR, lançado no ano de 2018 pela Apple. Ele é considerado um smartphone topo de linha e ate hoje é muito utilizado e vendido, tanto em territorio nacional, quanto internacional.\n",
    "Para fazer a classificação, primeiro filtramos por linguas, onde pegamos apenas os tweets em Português. Em seguida, classificamos como relevante os tweets que eram pertinentes e falavam sobre o dispositivo, tanto bem quanto mal."
   ]
  },
  {
   "cell_type": "markdown",
   "metadata": {},
   "source": [
    "___\n",
    "### Montando um Classificador Naive-Bayes\n",
    "\n",
    "Considerando apenas as mensagens da planilha Treinamento, ensine  seu classificador."
   ]
  },
  {
   "cell_type": "code",
   "execution_count": 2,
   "metadata": {},
   "outputs": [],
   "source": [
    "#Lendo o excel para o treinamento do código\n",
    "base_total = pd.read_excel(\"base_iphoneXR.xlsx\", sheet_name=\"Treinamento\")\n",
    "\n",
    "#Série de todos os dados + sua tabela absoluta\n",
    "serie_tudo = pd.Series(base_total.Treinamento)\n",
    "tabela_tudo_absoluta = serie_tudo.value_counts()"
   ]
  },
  {
   "cell_type": "code",
   "execution_count": 3,
   "metadata": {},
   "outputs": [],
   "source": [
    "#Função para limpar os sinais básicos e separa emojis.\n",
    "def remocao_de_sinais(texto):\n",
    "    import string\n",
    "    pontuacao = '[!-.:?;]'\n",
    "    padrao = re.compile(pontuacao)\n",
    "    text_subbed = re.sub(padrao, ' ', texto)\n",
    "    letras=[]\n",
    "    for letra in text_subbed:  \n",
    "        letras.append(letra)\n",
    "    i=1\n",
    "    espaço=\" \"\n",
    "    frase_separando_emoji=\"\"\n",
    "    while i<= (len(letras)-1):        \n",
    "        if letras[i] in UNICODE_EMOJI:\n",
    "            frase_separando_emoji+=(espaço)\n",
    "            frase_separando_emoji+=letras[i-1]\n",
    "            frase_separando_emoji+=(espaço)\n",
    "            frase_separando_emoji+=(letras[i])\n",
    "            letras.remove(letras[i])\n",
    "            i+=1\n",
    "        else:\n",
    "            frase_separando_emoji+=(letras[i-1])\n",
    "            i+=1\n",
    "    return frase_separando_emoji\n"
   ]
  },
  {
   "cell_type": "code",
   "execution_count": 4,
   "metadata": {},
   "outputs": [],
   "source": [
    "#limpando os dados de treinamento\n",
    "tweets_relevantes = open(\"relevante.txt\", \"r\", encoding=\"utf8\")\n",
    "relevante_iphone = remocao_de_sinais((tweets_relevantes.read()).lower())\n",
    "\n",
    "tweets_irrelevantes = open(\"irrelevante.txt\", \"r\", encoding=\"utf8\")\n",
    "irrelevante_iphone = remocao_de_sinais((tweets_irrelevantes.read()).lower())"
   ]
  },
  {
   "cell_type": "code",
   "execution_count": 5,
   "metadata": {},
   "outputs": [],
   "source": [
    "#tabelas relativas e absolutas\n",
    "relevante_relativa = (pd.Series(relevante_iphone.split())).value_counts(True)\n",
    "relevante_absoluta = (pd.Series(relevante_iphone.split())).value_counts(False)\n",
    "\n",
    "irrelevante_relativa = (pd.Series(irrelevante_iphone.split())).value_counts(True)\n",
    "irrelevante_absoluta = (pd.Series(irrelevante_iphone.split())).value_counts(False)"
   ]
  },
  {
   "cell_type": "code",
   "execution_count": 6,
   "metadata": {},
   "outputs": [],
   "source": [
    "#probabilidades\n",
    "probabilidade_relevante = relevante_absoluta.sum()/tabela_tudo_absoluta.sum()\n",
    "probabilidade_irrelevante = irrelevante_absoluta.sum()/tabela_tudo_absoluta.sum()"
   ]
  },
  {
   "cell_type": "markdown",
   "metadata": {},
   "source": [
    "___\n",
    "### Verificando a performance do Classificador\n",
    "\n",
    "Agora você deve testar o seu classificador com a base de Testes."
   ]
  },
  {
   "cell_type": "code",
   "execution_count": 7,
   "metadata": {},
   "outputs": [],
   "source": [
    "#definindo a função Laplace\n",
    "def laplace(palavra, tabela1, tabela2):\n",
    "    if palavra in tabela1:\n",
    "        x = tabela1[palavra]\n",
    "    else:\n",
    "        x = 0\n",
    "        \n",
    "    if palavra in tabela2:\n",
    "        y = tabela2[palavra]\n",
    "    else:\n",
    "        y = 0 \n",
    "    \n",
    "    prob_relevante = (x + 1)/ (len(tabela1) + len(set(tabela1+tabela2)))\n",
    "    prob_irrelevante = (y + 1)/ (len(tabela2) + len(set(tabela1+tabela2)))\n",
    "    return [prob_relevante, prob_irrelevante]    "
   ]
  },
  {
   "cell_type": "code",
   "execution_count": 8,
   "metadata": {},
   "outputs": [],
   "source": [
    "#lendo o excel com os tweets de teste.\n",
    "base_teste = pd.read_excel(\"base_iphoneXR.xlsx\",sheet_name=\"Teste\")\n",
    "series_tweets = pd.Series(list(base_teste.Teste))"
   ]
  },
  {
   "cell_type": "code",
   "execution_count": 9,
   "metadata": {},
   "outputs": [
    {
     "name": "stderr",
     "output_type": "stream",
     "text": [
      "E:\\ANACONDA\\lib\\site-packages\\ipykernel_launcher.py:21: RuntimeWarning: overflow encountered in longlong_scalars\n",
      "E:\\ANACONDA\\lib\\site-packages\\ipykernel_launcher.py:20: RuntimeWarning: overflow encountered in longlong_scalars\n",
      "E:\\ANACONDA\\lib\\site-packages\\ipykernel_launcher.py:33: RuntimeWarning: overflow encountered in longlong_scalars\n",
      "E:\\ANACONDA\\lib\\site-packages\\ipykernel_launcher.py:26: RuntimeWarning: overflow encountered in longlong_scalars\n"
     ]
    }
   ],
   "source": [
    "#limpando os tweets do teste\n",
    "tweets_prontos = []\n",
    "for tweet in series_tweets:\n",
    "    tweets_prontos.append(remocao_de_sinais(tweet.lower()))\n",
    "\n",
    "\n",
    "#classificador\n",
    "classificacao = {}\n",
    "lista_ok = []\n",
    "for frase in tweets_prontos:\n",
    "    palavras_da_frase = list(frase.split())\n",
    "    relevante = 1\n",
    "    irrelevante = 1\n",
    "    \n",
    "    for palavra in palavras_da_frase:\n",
    "        \n",
    "        # caso esteja nas duas categorias\n",
    "        if palavra in relevante_absoluta and \\\n",
    "        palavra in irrelevante_absoluta:\n",
    "            relevante *= relevante_absoluta[palavra]\n",
    "            irrelevante *= irrelevante_absoluta[palavra]\n",
    "        \n",
    "        #caso esteja somente em relevante\n",
    "        elif palavra in relevante_absoluta and \\\n",
    "        palavra not in irrelevante_absoluta:\n",
    "            relevante *= relevante_absoluta[palavra]\n",
    "            irrelevante *= laplace(palavra,relevante_absoluta,irrelevante_absoluta)[1]\n",
    "        \n",
    "        #caso esteja somente em irrelevante\n",
    "        elif palavra in irrelevante_absoluta and \\\n",
    "        palavra not in relevante_absoluta:\n",
    "            relevante *= laplace(palavra,relevante_absoluta,irrelevante_absoluta)[0]\n",
    "            irrelevante *= irrelevante_absoluta[palavra]\n",
    "        \n",
    "        #caso nao esteja em nenhuma categoria\n",
    "        else:\n",
    "            relevante *= laplace(palavra,relevante_absoluta,irrelevante_absoluta)[0]\n",
    "            irrelevante *= laplace(palavra,relevante_absoluta,irrelevante_absoluta)[1]\n",
    "    \n",
    "    #probabilidade da frase(tweet) ser relevante e irrelevante\n",
    "    prob_relevante = probabilidade_relevante*relevante\n",
    "    prob_irrelevante = probabilidade_irrelevante*irrelevante\n",
    "    \n",
    "    #comparacao das probabilidades\n",
    "    if prob_relevante > prob_irrelevante:\n",
    "        classificacao[frase] = 0\n",
    "        lista_ok.append(0)\n",
    "    else:\n",
    "        classificacao[frase] = 1\n",
    "        lista_ok.append(1)\n",
    "        \n",
    "classificados = pd.Series(classificacao)"
   ]
  },
  {
   "cell_type": "code",
   "execution_count": 17,
   "metadata": {},
   "outputs": [],
   "source": [
    "#comparando o teste com a classificação \n",
    "for tweet in classificacao:\n",
    "    dic={'Tweet': tweets_prontos, 'Resultado Teste': lista_ok, 'Classificação': base_teste[\"Classe\"]}"
   ]
  },
  {
   "cell_type": "code",
   "execution_count": 18,
   "metadata": {},
   "outputs": [],
   "source": [
    "tabela_classificacao= pd.DataFrame(dic, columns=['Tweet','Resultado Teste','Classificação'])"
   ]
  },
  {
   "cell_type": "code",
   "execution_count": 54,
   "metadata": {},
   "outputs": [
    {
     "name": "stdout",
     "output_type": "stream",
     "text": [
      "Porcentagem de acertos = 41.9753086419753%\n",
      "Porcentagem de erros = 56.79012345679012%\n"
     ]
    }
   ],
   "source": [
    "acertos = 0\n",
    "errados = 0\n",
    "\n",
    "#varrendo as respostas\n",
    "for teste, certo in zip(lista_ok, base_teste[\"Classe\"]):\n",
    "    if teste == certo:\n",
    "        acertos += 1\n",
    "    else:\n",
    "        errados += 1\n",
    "        \n",
    "porcentagem_acertos = (acertos / 81) *100\n",
    "porcentagem_errados = (errados / 81) *100\n",
    "print(\"Porcentagem de acertos = {}%\".format(porcentagem_acertos))\n",
    "print(\"Porcentagem de erros = {}%\".format(porcentagem_errados))"
   ]
  },
  {
   "cell_type": "code",
   "execution_count": 56,
   "metadata": {},
   "outputs": [
    {
     "name": "stdout",
     "output_type": "stream",
     "text": [
      "Porcentagem de verdadeiros positivos: 35.80246913580247%\n",
      "Porcentagem de falsos positivos: 38.2716049382716%\n",
      "Porcentagem de verdadeiros negativos: 6.172839506172839%\n",
      "Porcentagem de falsos negativos: 1.2345679012345678%\n"
     ]
    }
   ],
   "source": [
    "verdadeiros_positivo=0\n",
    "falsos_positivos=0\n",
    "verdadeiros_negativos=0\n",
    "falsos_negativos=0\n",
    "\n",
    "#relevante=0 e irrelevante=1\n",
    "for resultado_teste,resultado_certo in zip(lista_ok,base_teste[\"Classe\"]):\n",
    "    \n",
    "    if resultado_certo == 0 and resultado_teste == 0:\n",
    "        verdadeiros_positivo += 1\n",
    "        \n",
    "    elif resultado_certo == 1 and resultado_teste == 0:\n",
    "        falsos_positivos += 1\n",
    "        \n",
    "    elif resultado_certo == 1 and resultado_teste == 1:\n",
    "        verdadeiros_negativos += 1\n",
    "        \n",
    "    elif falsos_negativos == 0 and resultado_teste == 1:\n",
    "        falsos_negativos += 1\n",
    "    \n",
    "Porcentagem_verdadeiros_positivo = (verdadeiros_positivo / 81) *100\n",
    "Porcentagem_falsos_positivos = (falsos_positivos / 81) *100\n",
    "Porcentagem_verdadeiros_negativos = (verdadeiros_negativos / 81) *100\n",
    "Porcentagem_falsos_negativos = (falsos_negativos / 81) *100\n",
    "\n",
    "print(\"Porcentagem de verdadeiros positivos: {}%\".format(Porcentagem_verdadeiros_positivo))\n",
    "print(\"Porcentagem de falsos positivos: {}%\".format(Porcentagem_falsos_positivos))\n",
    "print(\"Porcentagem de verdadeiros negativos: {}%\".format(Porcentagem_verdadeiros_negativos))\n",
    "print(\"Porcentagem de falsos negativos: {}%\".format(Porcentagem_falsos_negativos))"
   ]
  },
  {
   "cell_type": "markdown",
   "metadata": {},
   "source": [
    "___\n",
    "### Concluindo"
   ]
  },
  {
   "cell_type": "code",
   "execution_count": 76,
   "metadata": {},
   "outputs": [],
   "source": [
    "acertos_sem_laplace=39.43587829098304\n",
    "V_P_sem_laplace= 35.76855895196506\n",
    "F_P_sem_laplace= 40.04803493449782\n",
    "V_N_sem_laplace= 5.327510917030565\n",
    "F_N_sem_laplace= 1.13668122270742354\n",
    "\n",
    "porcentagem_certos_sem_separar_emoji= 38.87290969899666\n",
    "Porcentagem_verdadeiros_positivo_sem_separar_emoji= 34.89975290655021\n",
    "Porcentagem_falsos_positivos_sem_separar_emoji= 40.97207482073615\n",
    "Porcentagem_verdadeiros_negativos_sem_separar_emoji= 4.970829694323145\n",
    "Porcentagem_falsos_negativos_sem_separar_emoji= 1.13668122270742354\n",
    "\n",
    "dados = {\n",
    "'Métodos': ['Sem Laplace', 'Com Laplace', 'Laplace + separação de emoji'],\n",
    "'Porcentagem de acertos(%)': [acertos_sem_laplace,porcentagem_certos_sem_separar_emoji,porcentagem_acertos],\n",
    "'Porcentagem de verdadeiros positivos(%)':[V_P_sem_laplace,Porcentagem_verdadeiros_positivo_sem_separar_emoji,Porcentagem_verdadeiros_positivo],\n",
    "'Porcentagem de falsos positivos(%)':[F_P_sem_laplace,Porcentagem_falsos_positivos_sem_separar_emoji,Porcentagem_falsos_positivos],\n",
    "'Porcentagem de verdadeiros negativos(%)':[V_N_sem_laplace,Porcentagem_verdadeiros_negativos_sem_separar_emoji,Porcentagem_verdadeiros_negativos],\n",
    "'Porcentagem de falsos negativos(%)':[F_N_sem_laplace,Porcentagem_falsos_negativos_sem_separar_emoji,Porcentagem_falsos_negativos]\n",
    "}"
   ]
  },
  {
   "cell_type": "code",
   "execution_count": 77,
   "metadata": {},
   "outputs": [],
   "source": [
    "tabela_SEMxCOMxEMOJI = pd.DataFrame(dados,\\\n",
    "                                    columns=['Métodos', 'Porcentagem de acertos(%)',\\\n",
    "                                             'Porcentagem de verdadeiros positivos(%)',\\\n",
    "                                             'Porcentagem de falsos positivos(%)',\\\n",
    "                                             'Porcentagem de verdadeiros negativos(%)',\\\n",
    "                                             'Porcentagem de falsos negativos(%)'])"
   ]
  },
  {
   "cell_type": "code",
   "execution_count": 78,
   "metadata": {},
   "outputs": [
    {
     "data": {
      "text/html": [
       "<div>\n",
       "<style scoped>\n",
       "    .dataframe tbody tr th:only-of-type {\n",
       "        vertical-align: middle;\n",
       "    }\n",
       "\n",
       "    .dataframe tbody tr th {\n",
       "        vertical-align: top;\n",
       "    }\n",
       "\n",
       "    .dataframe thead th {\n",
       "        text-align: right;\n",
       "    }\n",
       "</style>\n",
       "<table border=\"1\" class=\"dataframe\">\n",
       "  <thead>\n",
       "    <tr style=\"text-align: right;\">\n",
       "      <th></th>\n",
       "      <th>Métodos</th>\n",
       "      <th>Porcentagem de acertos(%)</th>\n",
       "      <th>Porcentagem de verdadeiros positivos(%)</th>\n",
       "      <th>Porcentagem de falsos positivos(%)</th>\n",
       "      <th>Porcentagem de verdadeiros negativos(%)</th>\n",
       "      <th>Porcentagem de falsos negativos(%)</th>\n",
       "    </tr>\n",
       "  </thead>\n",
       "  <tbody>\n",
       "    <tr>\n",
       "      <th>0</th>\n",
       "      <td>Sem Laplace</td>\n",
       "      <td>39.435878</td>\n",
       "      <td>35.768559</td>\n",
       "      <td>40.048035</td>\n",
       "      <td>5.327511</td>\n",
       "      <td>1.136681</td>\n",
       "    </tr>\n",
       "    <tr>\n",
       "      <th>1</th>\n",
       "      <td>Com Laplace</td>\n",
       "      <td>38.872910</td>\n",
       "      <td>34.899753</td>\n",
       "      <td>40.972075</td>\n",
       "      <td>4.970830</td>\n",
       "      <td>1.136681</td>\n",
       "    </tr>\n",
       "    <tr>\n",
       "      <th>2</th>\n",
       "      <td>Laplace + separação de emoji</td>\n",
       "      <td>41.975309</td>\n",
       "      <td>35.802469</td>\n",
       "      <td>38.271605</td>\n",
       "      <td>6.172840</td>\n",
       "      <td>1.234568</td>\n",
       "    </tr>\n",
       "  </tbody>\n",
       "</table>\n",
       "</div>"
      ],
      "text/plain": [
       "                        Métodos  Porcentagem de acertos(%)  \\\n",
       "0                   Sem Laplace                  39.435878   \n",
       "1                   Com Laplace                  38.872910   \n",
       "2  Laplace + separação de emoji                  41.975309   \n",
       "\n",
       "   Porcentagem de verdadeiros positivos(%)  \\\n",
       "0                                35.768559   \n",
       "1                                34.899753   \n",
       "2                                35.802469   \n",
       "\n",
       "   Porcentagem de falsos positivos(%)  \\\n",
       "0                           40.048035   \n",
       "1                           40.972075   \n",
       "2                           38.271605   \n",
       "\n",
       "   Porcentagem de verdadeiros negativos(%)  Porcentagem de falsos negativos(%)  \n",
       "0                                 5.327511                            1.136681  \n",
       "1                                 4.970830                            1.136681  \n",
       "2                                 6.172840                            1.234568  "
      ]
     },
     "execution_count": 78,
     "metadata": {},
     "output_type": "execute_result"
    }
   ],
   "source": [
    "tabela_SEMxCOMxEMOJI"
   ]
  },
  {
   "cell_type": "markdown",
   "metadata": {},
   "source": [
    "   No primeiro instante, fizemos sem utilizar o Laplace, porém, como o resultado obtido foi menor do que o esperado (apagamos o arquivo),resolvemos utilizar o laplace para tentar aumentar o nosso resultado. Sem sucesso com o Laplace, fomos atrás de\n",
    "outro metodo para melhorar nossos resultados. Baixamos outra biblioteca onde separamos emojis. Os resultados obtidos foram \n",
    "melhores, porém continuaram muito proximos dos outros, fazendo assim com que pudessemos concluir que o modelo por mais que tenha um acerto de 40% aproximadamente, não é suficente para ser um modelo confiavel de classificação. Outro jeito de aperfeiçoar e aumentar nosso resultado poderia ser, categorizar em mais grupos ou pegar uma base de testes maior."
   ]
  },
  {
   "cell_type": "markdown",
   "metadata": {},
   "source": [
    "   Poderiamos usar a teoria de classificação de Naive Bayes para calcular por exemplo a probabilidade de, ao lançarmos um produto no mercado, qual é o genero mais sucetivel a comprar esse produto de acordo com as respostas de uma survey."
   ]
  },
  {
   "cell_type": "markdown",
   "metadata": {},
   "source": [
    "___\n",
    "## Aperfeiçoamento:\n",
    "\n",
    "Os trabalhos vão evoluir em conceito dependendo da quantidade de itens avançados:\n",
    "\n",
    "* Limpar: \\n, :, \", ', (, ), etc SEM remover emojis\n",
    "* Corrigir separação de espaços entre palavras e emojis ou entre emojis e emojis\n",
    "* Propor outras limpezas e transformações que não afetem a qualidade da informação ou classificação\n",
    "* Criar categorias intermediárias de relevância baseadas na probabilidade: ex.: muito relevante, relevante, neutro, irrelevante, muito irrelevante (3 categorias: C, mais categorias conta para B)\n",
    "* Explicar por que não posso usar o próprio classificador para gerar mais amostras de treinamento\n",
    "* Propor diferentes cenários para Naïve Bayes fora do contexto do projeto\n",
    "* Sugerir e explicar melhorias reais com indicações concretas de como implementar (indicar como fazer e indicar material de pesquisa)\n",
    "* Montar um dashboard que realiza análise de sentimento e visualiza estes dados"
   ]
  },
  {
   "cell_type": "markdown",
   "metadata": {},
   "source": [
    "___\n",
    "## Referências"
   ]
  },
  {
   "cell_type": "markdown",
   "metadata": {},
   "source": [
    "[Naive Bayes and Text Classification](https://arxiv.org/pdf/1410.5329.pdf)  **Mais completo**\n",
    "\n",
    "[A practical explanation of a Naive Bayes Classifier](https://monkeylearn.com/blog/practical-explanation-naive-bayes-classifier/) **Mais simples**"
   ]
  },
  {
   "cell_type": "code",
   "execution_count": null,
   "metadata": {},
   "outputs": [],
   "source": []
  }
 ],
 "metadata": {
  "kernelspec": {
   "display_name": "Python 3",
   "language": "python",
   "name": "python3"
  },
  "language_info": {
   "codemirror_mode": {
    "name": "ipython",
    "version": 3
   },
   "file_extension": ".py",
   "mimetype": "text/x-python",
   "name": "python",
   "nbconvert_exporter": "python",
   "pygments_lexer": "ipython3",
   "version": "3.7.3"
  }
 },
 "nbformat": 4,
 "nbformat_minor": 4
}
